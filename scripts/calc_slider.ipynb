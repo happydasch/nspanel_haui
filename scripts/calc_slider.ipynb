{
 "cells": [
  {
   "cell_type": "code",
   "execution_count": 2,
   "metadata": {},
   "outputs": [],
   "source": [
    "value = \"1.1\"\n",
    "step = \"0.1\"\n",
    "minval = float(\"0.5\")\n",
    "maxval = float(\"5.0\")\n",
    "dot_pos = step[::-1].find('.')\n",
    "scale_factor = (10 ** dot_pos)"
   ]
  },
  {
   "cell_type": "code",
   "execution_count": 3,
   "metadata": {},
   "outputs": [
    {
     "name": "stdout",
     "output_type": "stream",
     "text": [
      "1.1, 0.1, 0.5, 5.0, 1: 10\n"
     ]
    }
   ],
   "source": [
    "print(f\"{value}, {step}, {minval}, {maxval}, {dot_pos}: {scale_factor}\")"
   ]
  },
  {
   "cell_type": "code",
   "execution_count": 59,
   "metadata": {},
   "outputs": [],
   "source": [
    "value_int = int(value.replace('.', ''))\n",
    "s_step = float(step)\n",
    "s_minval = int((float(minval) * scale_factor) / s_step)\n",
    "s_maxval = int((float(maxval) * scale_factor) / s_step)\n",
    "s_value = int(value_int / s_step)"
   ]
  },
  {
   "cell_type": "code",
   "execution_count": 4,
   "metadata": {},
   "outputs": [
    {
     "name": "stdout",
     "output_type": "stream",
     "text": [
      "final minmaxval: 5, 45, 6\n"
     ]
    }
   ],
   "source": [
    "f_step = float(step)\n",
    "i_value = int(value.replace('.', ''))\n",
    "i_minval = int((float(minval) * scale_factor))\n",
    "i_maxval = int((float(maxval) * scale_factor)) - i_minval\n",
    "i_value = int(i_value) - i_minval\n",
    "\n",
    "print(f\"final minmaxval: {i_minval}, {i_maxval}, {i_value}\")"
   ]
  },
  {
   "cell_type": "code",
   "execution_count": 5,
   "metadata": {},
   "outputs": [
    {
     "name": "stdout",
     "output_type": "stream",
     "text": [
      "1.1\n"
     ]
    }
   ],
   "source": [
    "n_value = (i_value + i_minval) / scale_factor\n",
    "print(n_value)"
   ]
  },
  {
   "cell_type": "code",
   "execution_count": null,
   "metadata": {},
   "outputs": [],
   "source": []
  },
  {
   "cell_type": "code",
   "execution_count": null,
   "metadata": {},
   "outputs": [],
   "source": []
  }
 ],
 "metadata": {
  "kernelspec": {
   "display_name": "venv",
   "language": "python",
   "name": "python3"
  },
  "language_info": {
   "codemirror_mode": {
    "name": "ipython",
    "version": 3
   },
   "file_extension": ".py",
   "mimetype": "text/x-python",
   "name": "python",
   "nbconvert_exporter": "python",
   "pygments_lexer": "ipython3",
   "version": "3.11.6"
  }
 },
 "nbformat": 4,
 "nbformat_minor": 2
}
