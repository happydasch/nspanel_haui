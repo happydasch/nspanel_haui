{
 "cells": [
  {
   "cell_type": "code",
   "execution_count": 17,
   "metadata": {},
   "outputs": [],
   "source": [
    "from IPython.display import display, HTML"
   ]
  },
  {
   "cell_type": "code",
   "execution_count": 18,
   "metadata": {},
   "outputs": [],
   "source": [
    "import colorsys\n",
    "import math\n",
    "import random"
   ]
  },
  {
   "cell_type": "code",
   "execution_count": 22,
   "metadata": {},
   "outputs": [],
   "source": [
    "\n",
    "\n",
    "def generate_color_palette(rgb_color, palette_type, seed=None, num_colors=6):\n",
    "    \"\"\" Generates random color matching the provided color.\n",
    "\n",
    "    Args:\n",
    "        rgb_color (list): RGB color\n",
    "        palette_type (str): Palette type: vibrant, pastel, light\n",
    "        seed (int, optional): Seed to use for random color generation. Defaults to random.\n",
    "        num_colors (int, optional): Number of colors to generate. Defaults to 6.\n",
    "\n",
    "    Returns:\n",
    "        tuple: A list with rgb values\n",
    "    \"\"\"\n",
    "    if seed is None:\n",
    "        seed = random.randint(0, 1000)\n",
    "    random.seed(seed)\n",
    "    hsv_background = colorsys.rgb_to_hsv(rgb_color[0] / 255, rgb_color[1] / 255, rgb_color[2] / 255)\n",
    "    colors = []\n",
    "    for _ in range(num_colors):\n",
    "        if palette_type == 'vibrant':\n",
    "            # Generate vibrant colors by randomizing hue, saturation, and value\n",
    "            hue = random.random()\n",
    "            saturation = random.uniform(0.6, 1.0)\n",
    "            value = random.uniform(0.7, 1.0)\n",
    "        elif palette_type == 'pastel':\n",
    "            # Generate pastel colors by reducing saturation and increasing value\n",
    "            hue = hsv_background[0]\n",
    "            saturation = random.uniform(0.2, 0.5)\n",
    "            value = random.uniform(0.7, 1.0)\n",
    "        elif palette_type == 'light':\n",
    "            # Generate light colors by increasing random value\n",
    "            hue = hsv_background[0]\n",
    "            saturation = hsv_background[1]\n",
    "            value = random.uniform(0.7, 1.0)\n",
    "        elif palette_type == 'lighten':\n",
    "            # Generate light colors by decreasing value\n",
    "            hue = hsv_background[0]\n",
    "            saturation = hsv_background[1]\n",
    "            value = 0.8\n",
    "        elif palette_type == 'dark':\n",
    "            # Generate light colors by decreasing random value\n",
    "            hue = hsv_background[0]\n",
    "            saturation = hsv_background[1]\n",
    "            value = random.uniform(0.0, 0.3)\n",
    "        elif palette_type == 'darken':\n",
    "            # Generate light colors by decreasing value\n",
    "            hue = hsv_background[0]\n",
    "            saturation = hsv_background[1]\n",
    "            value = 0.2\n",
    "        rgb = colorsys.hsv_to_rgb(hue, saturation, value)\n",
    "        rgb = int(rgb[0] * 255), int(rgb[1] * 255), int(rgb[2] * 255)\n",
    "        colors.append(rgb)\n",
    "    return colors"
   ]
  },
  {
   "cell_type": "code",
   "execution_count": 23,
   "metadata": {},
   "outputs": [],
   "source": [
    "def display_colors(colors):\n",
    "    output = ''\n",
    "    for hex_color in colors:\n",
    "        if isinstance(hex_color, (list, tuple)):\n",
    "            hex_color = '{:02x}{:02x}{:02x}'.format(*hex_color)\n",
    "        if hex_color.startswith('#'):\n",
    "            color = hex_color[1:]\n",
    "        else:\n",
    "            color = hex_color\n",
    "        output += f'<img src=\"https://placehold.co/100x100/{color}/{color}.png\" style=\"float:left; display: inline-block;\" />'\n",
    "    output = '<div style=\"clear:both;\">' + output + '</div>'\n",
    "    html = HTML(output)\n",
    "    # or chart = charts.plot(...)\n",
    "    display(html)"
   ]
  },
  {
   "cell_type": "code",
   "execution_count": 31,
   "metadata": {},
   "outputs": [
    {
     "data": {
      "text/html": [
       "<div style=\"clear:both;\"><img src=\"https://placehold.co/100x100/3ee0e8/3ee0e8.png\" style=\"float:left; display: inline-block;\" /><img src=\"https://placehold.co/100x100/b80195/b80195.png\" style=\"float:left; display: inline-block;\" /><img src=\"https://placehold.co/100x100/23d092/23d092.png\" style=\"float:left; display: inline-block;\" /><img src=\"https://placehold.co/100x100/6ae72f/6ae72f.png\" style=\"float:left; display: inline-block;\" /><img src=\"https://placehold.co/100x100/d9100f/d9100f.png\" style=\"float:left; display: inline-block;\" /><img src=\"https://placehold.co/100x100/1eba84/1eba84.png\" style=\"float:left; display: inline-block;\" /></div>"
      ],
      "text/plain": [
       "<IPython.core.display.HTML object>"
      ]
     },
     "metadata": {},
     "output_type": "display_data"
    },
    {
     "name": "stdout",
     "output_type": "stream",
     "text": [
      "Seed: 838\n",
      "1: #3ee0e8\n",
      "2: #b80195\n",
      "3: #23d092\n",
      "4: #6ae72f\n",
      "5: #d9100f\n",
      "6: #1eba84\n"
     ]
    }
   ],
   "source": [
    "color_mode = 'vibrant'\n",
    "seed = random.randint(0, 1000)\n",
    "num_colors = 6\n",
    "colors = generate_color_palette([27,27,27], color_mode, seed, num_colors)\n",
    "display_colors(colors)\n",
    "print(f'Seed: {seed}')\n",
    "for i, x in enumerate(colors):\n",
    "    hex_color = '#%02x%02x%02x' % (int(x[0]), int(x[1]), int(x[2]))\n",
    "    print(f'{i+1}: {hex_color}')"
   ]
  },
  {
   "cell_type": "code",
   "execution_count": 32,
   "metadata": {},
   "outputs": [
    {
     "data": {
      "text/html": [
       "<div style=\"clear:both;\"><img src=\"https://placehold.co/100x100/3ae6b1/3ae6b1.png\" style=\"float:left; display: inline-block;\" /><img src=\"https://placehold.co/100x100/0641f7/0641f7.png\" style=\"float:left; display: inline-block;\" /><img src=\"https://placehold.co/100x100/07f608/07f608.png\" style=\"float:left; display: inline-block;\" /><img src=\"https://placehold.co/100x100/f9bb02/f9bb02.png\" style=\"float:left; display: inline-block;\" /><img src=\"https://placehold.co/100x100/cb3564/cb3564.png\" style=\"float:left; display: inline-block;\" /><img src=\"https://placehold.co/100x100/4840b6/4840b6.png\" style=\"float:left; display: inline-block;\" /></div>"
      ],
      "text/plain": [
       "<IPython.core.display.HTML object>"
      ]
     },
     "metadata": {},
     "output_type": "display_data"
    },
    {
     "name": "stdout",
     "output_type": "stream",
     "text": [
      "1: #3ae6b1\n",
      "2: #0641f7\n",
      "3: #07f608\n",
      "4: #f9bb02\n",
      "5: #cb3564\n",
      "6: #4840b6\n"
     ]
    }
   ],
   "source": [
    "colors = generate_color_palette([27,27,27], 'vibrant', 938, 6)\n",
    "display_colors(colors)\n",
    "for i, x in enumerate(colors):\n",
    "    hex_color = '#%02x%02x%02x' % (int(x[0]), int(x[1]), int(x[2]))\n",
    "    print(f'{i+1}: {hex_color}')"
   ]
  },
  {
   "cell_type": "code",
   "execution_count": null,
   "metadata": {},
   "outputs": [],
   "source": []
  }
 ],
 "metadata": {
  "kernelspec": {
   "display_name": "venv",
   "language": "python",
   "name": "python3"
  },
  "language_info": {
   "codemirror_mode": {
    "name": "ipython",
    "version": 3
   },
   "file_extension": ".py",
   "mimetype": "text/x-python",
   "name": "python",
   "nbconvert_exporter": "python",
   "pygments_lexer": "ipython3",
   "version": "3.11.3"
  },
  "orig_nbformat": 4
 },
 "nbformat": 4,
 "nbformat_minor": 2
}
