{
 "cells": [
  {
   "attachments": {},
   "cell_type": "markdown",
   "metadata": {},
   "source": [
    "# Convert RGB888 to RGB565"
   ]
  },
  {
   "cell_type": "code",
   "execution_count": 2,
   "metadata": {},
   "outputs": [],
   "source": [
    "def rgb_to_rgb565(rgb_color):\n",
    "    \"\"\" Converts a RGB888 color to a RGB565 color.\n",
    "\n",
    "    Args:\n",
    "        rgb_color (list|tuple): rgb colors\n",
    "\n",
    "    Returns:\n",
    "        int: RGB565 color\n",
    "    \"\"\"\n",
    "    red = rgb_color[0]\n",
    "    green = rgb_color[1]\n",
    "    blue = rgb_color[2]\n",
    "    return ((int(red >> 3) << 11) | (int(green >> 2) << 5) | (int(blue >> 3)))\n",
    "\n",
    "\n",
    "def rgb565_to_rgb(rgb565_color):\n",
    "    \"\"\" Converts a RGB565 color to a RGB888 color.\n",
    "\n",
    "    Args:\n",
    "        rgb565_color (int): rgb565 color\n",
    "\n",
    "    Returns:\n",
    "        list: RGB888 color\n",
    "    \"\"\"\n",
    "    red = (rgb565_color & 0xF800) >> 11\n",
    "    green = (rgb565_color & 0x07E0) >> 5\n",
    "    blue = (rgb565_color & 0x001F)\n",
    "    # scale the values up to 8 bits (0-255)\n",
    "    red = (red * 255) // 31\n",
    "    green = (green * 255) // 63\n",
    "    blue = (blue * 255) // 31\n",
    "    # return the rgb values\n",
    "    return [red, green, blue]\n"
   ]
  },
  {
   "cell_type": "code",
   "execution_count": 27,
   "metadata": {},
   "outputs": [
    {
     "name": "stdout",
     "output_type": "stream",
     "text": [
      "RGB [244, 180, 0] #f4b40\n",
      "RGB5656 62880\n"
     ]
    }
   ],
   "source": [
    "rgb_color = '#9494ff'\n",
    "#rgb_color = [244, 180, 0]\n",
    "if isinstance(rgb_color, str):\n",
    "    if rgb_color.startswith('#'):\n",
    "        rgb_color = rgb_color[1:]\n",
    "    rgb_color = list(int(rgb_color[i:i+2], 16) for i in (0, 2, 4))\n",
    "rgb565_color = rgb_to_rgb565(rgb_color)\n",
    "print('RGB', rgb_color, f'#{hex(rgb_color[0])[2:]}{hex(rgb_color[1])[2:]}{hex(rgb_color[2])[2:]}')\n",
    "print('RGB5656', rgb565_color)"
   ]
  },
  {
   "cell_type": "code",
   "execution_count": 25,
   "metadata": {},
   "outputs": [
    {
     "name": "stdout",
     "output_type": "stream",
     "text": [
      "RGB565 55907\n",
      "RGB [222, 76, 24] #de4c18\n"
     ]
    }
   ],
   "source": [
    "color = 55907\n",
    "rgb_color = rgb565_to_rgb(color)\n",
    "print('RGB565', color)\n",
    "print('RGB', rgb_color, f'#{hex(rgb_color[0])[2:]}{hex(rgb_color[1])[2:]}{hex(rgb_color[2])[2:]}')"
   ]
  },
  {
   "cell_type": "code",
   "execution_count": null,
   "metadata": {},
   "outputs": [],
   "source": []
  }
 ],
 "metadata": {
  "kernelspec": {
   "display_name": "Python 3",
   "language": "python",
   "name": "python3"
  },
  "language_info": {
   "codemirror_mode": {
    "name": "ipython",
    "version": 3
   },
   "file_extension": ".py",
   "mimetype": "text/x-python",
   "name": "python",
   "nbconvert_exporter": "python",
   "pygments_lexer": "ipython3",
   "version": "3.11.3"
  },
  "orig_nbformat": 4
 },
 "nbformat": 4,
 "nbformat_minor": 2
}
