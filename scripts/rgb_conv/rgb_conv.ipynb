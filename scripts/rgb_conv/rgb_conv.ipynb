{
 "cells": [
  {
   "attachments": {},
   "cell_type": "markdown",
   "metadata": {},
   "source": [
    "# Convert RGB888 to RGB565"
   ]
  },
  {
   "cell_type": "code",
   "execution_count": null,
   "metadata": {},
   "outputs": [],
   "source": [
    "from IPython.display import display, HTML"
   ]
  },
  {
   "cell_type": "code",
   "execution_count": 16,
   "metadata": {},
   "outputs": [],
   "source": [
    "def rgb_to_rgb565(rgb_color):\n",
    "    \"\"\" Converts a RGB888 color to a RGB565 color.\n",
    "\n",
    "    Args:\n",
    "        rgb_color (list|tuple): rgb colors\n",
    "\n",
    "    Returns:\n",
    "        int: RGB565 color\n",
    "    \"\"\"\n",
    "    red = rgb_color[0]\n",
    "    green = rgb_color[1]\n",
    "    blue = rgb_color[2]\n",
    "    return ((int(red >> 3) << 11) | (int(green >> 2) << 5) | (int(blue >> 3)))\n",
    "\n",
    "\n",
    "def rgb565_to_rgb(rgb565_color):\n",
    "    \"\"\" Converts a RGB565 color to a RGB888 color.\n",
    "\n",
    "    Args:\n",
    "        rgb565_color (int): rgb565 color\n",
    "\n",
    "    Returns:\n",
    "        list: RGB888 color\n",
    "    \"\"\"\n",
    "    red = (rgb565_color & 0xF800) >> 11\n",
    "    green = (rgb565_color & 0x07E0) >> 5\n",
    "    blue = (rgb565_color & 0x001F)\n",
    "    # scale the values up to 8 bits (0-255)\n",
    "    red = (red * 255) // 31\n",
    "    green = (green * 255) // 63\n",
    "    blue = (blue * 255) // 31\n",
    "    # return the rgb values\n",
    "    return [red, green, blue]\n",
    "\n",
    "\n",
    "def display_color(hex_color):\n",
    "    if isinstance(hex_color, list):\n",
    "        hex_color = '{:02x}{:02x}{:02x}'.format(*hex_color)\n",
    "    if hex_color.startswith('#'):\n",
    "        color = hex_color[1:]\n",
    "    else:\n",
    "        color = hex_color\n",
    "    html = HTML(f'<img src=\"https://placehold.co/100x100/{color}/{color}.png\" />')\n",
    "    # or chart = charts.plot(...)\n",
    "    display(html)\n"
   ]
  },
  {
   "attachments": {},
   "cell_type": "markdown",
   "metadata": {},
   "source": [
    "## Convert RGB to RGB565"
   ]
  },
  {
   "cell_type": "code",
   "execution_count": 19,
   "metadata": {},
   "outputs": [],
   "source": [
    "rgb_color = '#313131'\n",
    "#rgb_color = [244, 180, 0]"
   ]
  },
  {
   "cell_type": "code",
   "execution_count": 20,
   "metadata": {},
   "outputs": [
    {
     "name": "stdout",
     "output_type": "stream",
     "text": [
      "RGB [49, 49, 49] #313131\n",
      "RGB5656 12678\n"
     ]
    },
    {
     "data": {
      "text/html": [
       "<img src=\"https://placehold.co/100x100/313131/313131.png\" />"
      ],
      "text/plain": [
       "<IPython.core.display.HTML object>"
      ]
     },
     "metadata": {},
     "output_type": "display_data"
    }
   ],
   "source": [
    "if isinstance(rgb_color, str):\n",
    "    if rgb_color.startswith('#'):\n",
    "        rgb_color = rgb_color[1:]\n",
    "    rgb_color = list(int(rgb_color[i:i+2], 16) for i in (0, 2, 4))\n",
    "rgb565_color = rgb_to_rgb565(rgb_color)\n",
    "hex_color = '#{:02x}{:02x}{:02x}'.format(*rgb_color)\n",
    "print('RGB', rgb_color, hex_color)\n",
    "print('RGB5656', rgb565_color)\n",
    "display_color(rgb_color)"
   ]
  },
  {
   "attachments": {},
   "cell_type": "markdown",
   "metadata": {},
   "source": [
    "## Convert RGB565 to RGB"
   ]
  },
  {
   "cell_type": "code",
   "execution_count": 21,
   "metadata": {},
   "outputs": [],
   "source": [
    "rgb565_color = 12678"
   ]
  },
  {
   "cell_type": "code",
   "execution_count": 22,
   "metadata": {},
   "outputs": [
    {
     "name": "stdout",
     "output_type": "stream",
     "text": [
      "RGB [49, 48, 49] #313031\n",
      "RGB5656 12678\n"
     ]
    },
    {
     "data": {
      "text/html": [
       "<img src=\"https://placehold.co/100x100/313031/313031.png\" />"
      ],
      "text/plain": [
       "<IPython.core.display.HTML object>"
      ]
     },
     "metadata": {},
     "output_type": "display_data"
    }
   ],
   "source": [
    "rgb_color = rgb565_to_rgb(rgb565_color)\n",
    "hex_color = '#{:02x}{:02x}{:02x}'.format(*rgb_color)\n",
    "print('RGB', rgb_color, hex_color)\n",
    "print('RGB5656', rgb565_color)\n",
    "display_color(rgb_color)"
   ]
  },
  {
   "cell_type": "code",
   "execution_count": null,
   "metadata": {},
   "outputs": [],
   "source": []
  }
 ],
 "metadata": {
  "kernelspec": {
   "display_name": "Python 3",
   "language": "python",
   "name": "python3"
  },
  "language_info": {
   "codemirror_mode": {
    "name": "ipython",
    "version": 3
   },
   "file_extension": ".py",
   "mimetype": "text/x-python",
   "name": "python",
   "nbconvert_exporter": "python",
   "pygments_lexer": "ipython3",
   "version": "3.11.3"
  },
  "orig_nbformat": 4
 },
 "nbformat": 4,
 "nbformat_minor": 2
}
